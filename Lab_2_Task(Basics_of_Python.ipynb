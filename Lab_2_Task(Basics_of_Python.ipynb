{
  "nbformat": 4,
  "nbformat_minor": 0,
  "metadata": {
    "colab": {
      "provenance": [],
      "authorship_tag": "ABX9TyMDEqaYmSns6fKCPp6vaDDu",
      "include_colab_link": true
    },
    "kernelspec": {
      "name": "python3",
      "display_name": "Python 3"
    },
    "language_info": {
      "name": "python"
    }
  },
  "cells": [
    {
      "cell_type": "markdown",
      "metadata": {
        "id": "view-in-github",
        "colab_type": "text"
      },
      "source": [
        "<a href=\"https://colab.research.google.com/github/Hafsa620/PAI-LAB/blob/main/Lab_2_Task(Basics_of_Python.ipynb\" target=\"_parent\"><img src=\"https://colab.research.google.com/assets/colab-badge.svg\" alt=\"Open In Colab\"/></a>"
      ]
    },
    {
      "cell_type": "markdown",
      "source": [
        "Range"
      ],
      "metadata": {
        "id": "ZfaK0quNHUiv"
      }
    },
    {
      "cell_type": "code",
      "source": [
        "for i in range(10):  #range using 1 argument\n",
        "  print(i)\n",
        "print()  #new line\n",
        "for i in range(1,10):  #range using 2 argument\n",
        "  print(i)\n",
        "\n",
        "print()\n",
        "for i in range(1,10,2):  #range using 3 argument\n",
        "  print(i)\n",
        "\n",
        "print()\n",
        "\n",
        "my_list=list(range(1,10,3))  #create list through list\n",
        "my_list\n",
        "\n",
        "print()\n",
        "\n",
        "for i in range(len(my_list)):    #access index through range\n",
        "  print(f'index{i}:{my_list[i]}')"
      ],
      "metadata": {
        "colab": {
          "base_uri": "https://localhost:8080/"
        },
        "id": "hZ_O_IftHSfi",
        "outputId": "82af0639-6e60-40cc-88f4-1b04b6ff5110"
      },
      "execution_count": null,
      "outputs": [
        {
          "output_type": "stream",
          "name": "stdout",
          "text": [
            "0\n",
            "1\n",
            "2\n",
            "3\n",
            "4\n",
            "5\n",
            "6\n",
            "7\n",
            "8\n",
            "9\n",
            "\n",
            "1\n",
            "2\n",
            "3\n",
            "4\n",
            "5\n",
            "6\n",
            "7\n",
            "8\n",
            "9\n",
            "\n",
            "1\n",
            "3\n",
            "5\n",
            "7\n",
            "9\n",
            "\n",
            "\n",
            "index0:1\n",
            "index1:4\n",
            "index2:7\n"
          ]
        }
      ]
    },
    {
      "cell_type": "markdown",
      "source": [
        "Write a Python script to perform following set of operations to generate dictionary of data for students.\n",
        "\n",
        "The script should ask the instructor repeatedly for a “student ID”, “name” and his “residential city name” and store it in three different lists. If the instructor types “stop” the loop should exit."
      ],
      "metadata": {
        "id": "p_WQcZl5Pu66"
      }
    },
    {
      "cell_type": "code",
      "source": [
        "x=''\n",
        "std_id=[]\n",
        "std_name=[]\n",
        "std_city=[]"
      ],
      "metadata": {
        "id": "M0pMOwu6VEMi"
      },
      "execution_count": null,
      "outputs": []
    },
    {
      "cell_type": "code",
      "execution_count": null,
      "metadata": {
        "colab": {
          "base_uri": "https://localhost:8080/"
        },
        "id": "T5itLHn6TVu7",
        "outputId": "d9b19a7c-b010-487f-d257-5ad411a6f6ae"
      },
      "outputs": [
        {
          "output_type": "stream",
          "name": "stdout",
          "text": [
            "Enter Student ID:1\n",
            "Enter Student Name:Ali\n",
            "Enter Resedential City:Vhr\n",
            "Do you want to stop:no\n",
            "Enter Student ID:2\n",
            "Enter Student Name:Aleeha\n",
            "Enter Resedential City:vhr\n",
            "Do you want to stop:stop\n",
            "['1', '2']\n",
            "['Ali', 'Aleeha']\n",
            "['Vhr', 'vhr']\n"
          ]
        }
      ],
      "source": [
        "while x!='stop':\n",
        "   x=input(\"Enter Student ID:\")\n",
        "   std_id.append(x)\n",
        "   y=input(\"Enter Student Name:\")\n",
        "   std_name.append(y)\n",
        "   z=input(\"Enter Resedential City:\")\n",
        "   std_city.append(z)\n",
        "   stop=input(\"Do you want to stop:\")\n",
        "   if stop=='stop':\n",
        "    break\n",
        "    print(x,y,z)\n",
        "print(std_id)\n",
        "print(std_name)\n",
        "print(std_city)"
      ]
    },
    {
      "cell_type": "markdown",
      "source": [
        "2. Traverse the three lists generated in “part 1” and create a dictionary data structure out of it. The script should take ID of student as a Key of the dictionary and rest of the attributes as a list within that dictionary in following sequence: {1:[“name”,”city”]}"
      ],
      "metadata": {
        "id": "wsLY2R2OP0Be"
      }
    },
    {
      "cell_type": "code",
      "source": [
        "std_dict={}\n",
        "for i in range(len(std_id)):\n",
        "  std_dict[std_id[i]]=[std_name[i],std_city[i]]\n",
        "print(\"std_dict:\",std_dict)\n"
      ],
      "metadata": {
        "colab": {
          "base_uri": "https://localhost:8080/"
        },
        "id": "USzaTyfJOpW_",
        "outputId": "6a7363d5-53d6-419e-f5aa-4c47c4487068"
      },
      "execution_count": null,
      "outputs": [
        {
          "output_type": "stream",
          "name": "stdout",
          "text": [
            "std_dict: {'1': ['Ali', 'Vhr'], '2': ['Aleeha', 'vhr']}\n"
          ]
        }
      ]
    },
    {
      "cell_type": "markdown",
      "source": [
        "Once dictionary is created, the instructor should be able to query the data. He should provide ID of the student as a console input and script should return the name and city of the student."
      ],
      "metadata": {
        "id": "_zG1Q5-xP1bz"
      }
    },
    {
      "cell_type": "code",
      "source": [
        "while True:\n",
        "  query_id=input(\"Enter student id or type 'stop' to exit:\")\n",
        "  if query_id.lower()=='stop':\n",
        "    print(\"Exit query\")\n",
        "    break\n",
        "  if query_id in std_dict:\n",
        "    print(f\"Std_name:{std_dict[query_id][0]}\")     #f before string allows use of variable in string and query id retrieves the list in id 0 and select 1st item in list\n",
        "    print(f\"Std_city:{std_dict[query_id][1]}\")\n",
        "  else:\n",
        "    print(\"Invalid ID\")"
      ],
      "metadata": {
        "colab": {
          "base_uri": "https://localhost:8080/"
        },
        "id": "qFJJSh_4Pe9x",
        "outputId": "4165850d-b73f-47e3-fe50-0843b1347d0d"
      },
      "execution_count": null,
      "outputs": [
        {
          "output_type": "stream",
          "name": "stdout",
          "text": [
            "Enter student id or type 'stop' to exit:1\n",
            "Std_name:Ali\n",
            "Std_city:Vhr\n",
            "Enter student id or type 'stop' to exit:2\n",
            "Std_name:Aleeha\n",
            "Std_city:vhr\n",
            "Enter student id or type 'stop' to exit:3\n",
            "Invalid ID\n",
            "Enter student id or type 'stop' to exit:stop\n",
            "Exit query\n"
          ]
        }
      ]
    },
    {
      "cell_type": "code",
      "source": [
        "record = dict(zip(['std_id','std_name','std_city'],[std_id,std_name,std_city]))\n",
        "record\n"
      ],
      "metadata": {
        "colab": {
          "base_uri": "https://localhost:8080/"
        },
        "id": "PH5kEY_zXQym",
        "outputId": "1352be89-1d50-441a-eb7f-7a5406629cb8"
      },
      "execution_count": null,
      "outputs": [
        {
          "output_type": "execute_result",
          "data": {
            "text/plain": [
              "{'std_id': ['1', '2'],\n",
              " 'std_name': ['Amna', 'Malaika'],\n",
              " 'std_city': ['VHR', 'Multan']}"
            ]
          },
          "metadata": {},
          "execution_count": 4
        }
      ]
    }
  ]
}