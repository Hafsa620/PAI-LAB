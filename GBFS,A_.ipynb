{
  "nbformat": 4,
  "nbformat_minor": 0,
  "metadata": {
    "colab": {
      "provenance": [],
      "authorship_tag": "ABX9TyPuPREfw044UAqw332Q5pJJ",
      "include_colab_link": true
    },
    "kernelspec": {
      "name": "python3",
      "display_name": "Python 3"
    },
    "language_info": {
      "name": "python"
    }
  },
  "cells": [
    {
      "cell_type": "markdown",
      "metadata": {
        "id": "view-in-github",
        "colab_type": "text"
      },
      "source": [
        "<a href=\"https://colab.research.google.com/github/Hafsa620/PAI-LAB/blob/main/GBFS%2CA_.ipynb\" target=\"_parent\"><img src=\"https://colab.research.google.com/assets/colab-badge.svg\" alt=\"Open In Colab\"/></a>"
      ]
    },
    {
      "cell_type": "markdown",
      "source": [
        "GBFS"
      ],
      "metadata": {
        "id": "QgFWLa4ku4w3"
      }
    },
    {
      "cell_type": "code",
      "source": [
        "graph={\n",
        "    'Arad':[['Zerind',374],['Sibiu',253],['Timisoara',329]],\n",
        "    'Zerind':[['Oradea',380],['Arad',366]],\n",
        "    'Oradea':[['Sibiu',253],['Zerind',374]],\n",
        "    'Sibiu':[['Fagaras',178],['Rimnicu Vilcea',193],['Arad',366],['Oradea',380]],\n",
        "    'Fagaras':[['Sibiu',253],['Bucharest',0]],\n",
        "    'Rimnicu Vilcea':[['Sibiu',253],['Craiova',160],['Pitesti',98]],\n",
        "    'Timisoara':[['Lugoj',244],['Arad',366]],\n",
        "    'Lugoj':[['Mehadia',241],['Timisoara',329]],\n",
        "    'Mehadia':[['Drobeta',242],['Lugoj',244]],\n",
        "    'Drobeta':[['Craiova',160],['Mehadia',241]],\n",
        "    'Craiova':[['Drobeta',242],['Pitesti',98],['Rimnicu Vilcea',193]],\n",
        "    'Pitesti':[['Bucharest',0],['Craiova',160],['Rimnicu Vilcea',193]],\n",
        "    'Bucharest':[['Giurgiu',77],['Urziceni',80],['Fagaras',178],['Pitesti',98]],\n",
        "    'Giurgiu':[['Bucharest',0]],\n",
        "    'Urziceni':[['Valsui',199],['Bucharest',0],['Hirsova',151]],\n",
        "    'Valsui':[['Iasi',226],['Urziceni',80]],\n",
        "    'Iasi':[['Neamt',234],['Valsui',199]],\n",
        "    'Neamt':[['Iasi',226]],\n",
        "    'Hirsova':[['Eforie',161],['Urziceni',80]],\n",
        "    'Eforie':[['Hirsova',151]]\n",
        "\n",
        "\n",
        "}\n",
        "\n",
        "from operator import itemgetter        #Itemgetter is used to create function that extracts specific items from python DS like lists, tupples and dictionaries. It is used to select and sort items based on specific elements.\n",
        "def gbfs(graph,start,goal):\n",
        "  opened=[start]\n",
        "  closed=[]\n",
        "  while opened:\n",
        "    node=opened.pop(0)\n",
        "    if node[0]==goal:\n",
        "      closed.append(node[0])\n",
        "      return closed\n",
        "    else:\n",
        "      opened=opened+[item for item in graph[node[0]] if item not in opened and item not in closed]\n",
        "      closed.append(node[0])\n",
        "    opened.sort(key=itemgetter(1))\n",
        "\n",
        "  return 'Goal Not Found'\n",
        "\n",
        "print('GBFS')\n",
        "gbfs_path=gbfs(graph,['Arad',0],'Bucharest')\n",
        "\n",
        "print(gbfs_path)\n",
        "\n"
      ],
      "metadata": {
        "colab": {
          "base_uri": "https://localhost:8080/"
        },
        "id": "KBVnsCkVu7T2",
        "outputId": "18481669-5872-4ad8-b76d-a2531e09d44e"
      },
      "execution_count": null,
      "outputs": [
        {
          "output_type": "stream",
          "name": "stdout",
          "text": [
            "GBFS\n",
            "['Arad', 'Sibiu', 'Fagaras', 'Bucharest']\n"
          ]
        }
      ]
    },
    {
      "cell_type": "code",
      "source": [
        "#sort data according to age\n",
        "from operator import itemgetter\n",
        "data=[{'name':'Bob','age':20},{'name':'ali','age':22},{'name':'sara','age':25}]\n",
        "sorted_data=sorted(data,key=itemgetter('age'))   #itemgetter select age from list and sorted uses this function as a key to determine order\n",
        "print(sorted_data)"
      ],
      "metadata": {
        "colab": {
          "base_uri": "https://localhost:8080/"
        },
        "id": "T0ek98cIu9aq",
        "outputId": "8b9557be-ad5e-40df-c0d2-011098d6855b"
      },
      "execution_count": null,
      "outputs": [
        {
          "output_type": "stream",
          "name": "stdout",
          "text": [
            "[{'name': 'Bob', 'age': 20}, {'name': 'ali', 'age': 22}, {'name': 'sara', 'age': 25}]\n"
          ]
        }
      ]
    },
    {
      "cell_type": "markdown",
      "source": [
        "A* Search"
      ],
      "metadata": {
        "id": "Jnk19A53vEJa"
      }
    },
    {
      "cell_type": "markdown",
      "source": [
        "If we later reach a node that’s already in open_list with a lower g_cost, we’d replace the existing entry with this updated path information to ensure A* finds the optimal route."
      ],
      "metadata": {
        "id": "UHgbzg6avYGM"
      }
    },
    {
      "cell_type": "code",
      "source": [
        "from operator import itemgetter\n",
        "\n",
        "# Define the graph\n",
        "graph = {\n",
        "    'Arad': [['Zerind', 75, 374], ['Timisoara', 118, 329], ['Sibiu', 140, 253]],\n",
        "    'Zerind': [['Oradea', 71, 380], ['Arad', 75, 366]],\n",
        "    'Oradea': [['Zerind', 71, 374], ['Sibiu', 151, 253]],\n",
        "    'Sibiu': [['Rimniciu Vilcea', 80, 193], ['Fagaras', 99, 176], ['Arad', 140, 366], ['Oradea', 151, 380]],\n",
        "    'Fagaras': [['Sibiu', 99, 253], ['Bucharest', 211, 0]],\n",
        "    'Rimniciu Vilcea': [['Pitesti', 97, 100], ['Craiova', 146, 160], ['Sibiu', 80, 253]],\n",
        "    'Timisoara': [['Lugoj', 111, 244], ['Arad', 118, 366]],\n",
        "    'Lugoj': [['Mehadia', 70, 241], ['Timisoara', 111, 329]],\n",
        "    'Mehadia': [['Lugoj', 70, 244], ['Dobreta', 75, 242]],\n",
        "    'Dobreta': [['Mehadia', 75, 241], ['Craiova', 120, 160]],\n",
        "    'Pitesti': [['Craiova', 138, 160], ['Bucharest', 101, 0]],\n",
        "    'Craiova': [['Pitesti', 138, 100], ['Dobreta', 120, 242], ['Rimniciu Vilcea', 146, 193]],\n",
        "    'Bucharest': [['Giurgiu', 90, 77], ['Urziceni', 85, 80], ['Fagaras', 211, 176], ['Pitesti', 101, 100]],\n",
        "    'Giurgiu': [['Bucharest', 90, 0]],\n",
        "    'Urziceni': [['Vaslui', 142, 199], ['Hirsova', 98, 151], ['Bucharest', 85, 0]],\n",
        "    'Vaslui': [['Lasi', 92, 226], ['Urziceni', 142, 80]],\n",
        "    'Lasi': [['Neamt', 87, 234], ['Vaslui', 92, 199]],\n",
        "    'Neamt': [['Lasi', 87, 226]],\n",
        "    'Hirsova': [['Eforie', 86, 161], ['Urziceni', 98, 80]],\n",
        "    'Eforie': [['Hirsova', 86, 151]],\n",
        "}\n",
        "\n",
        "def astar_traversal(graph, start, goal):\n",
        "    # Initialize open and closed lists\n",
        "    opened = [[start[0], start[1], start[2], [start[0]]]]  # Each item is [City, g, h, path_to_city] ->[['Arad',0,366,['Arad']]]\n",
        "    closed = []\n",
        "\n",
        "    while opened:\n",
        "        current = opened.pop(0)  # Node with the lowest f score ->current=['Arad',0,366,['Arad']]\n",
        "        city, g, h, path_to_city = current\n",
        "        print('Current:', current)\n",
        "\n",
        "        #If the goal is reached, return the path\n",
        "        if city == goal:\n",
        "            return path_to_city\n",
        "\n",
        "        # Move current node to closed list\n",
        "        closed.append(city)\n",
        "\n",
        "        # Expand neighbors\n",
        "        for neighbor in graph[city]:\n",
        "            neighbor_city, distance_to_neighbor, heuristic_value = neighbor\n",
        "            total_g = g + distance_to_neighbor\n",
        "            f = total_g + heuristic_value\n",
        "\n",
        "            # Check if the neighbor is in the closed list\n",
        "            if neighbor_city in closed:\n",
        "                continue\n",
        "\n",
        "            # Check if a node is already in open_list with a higher g_cost\n",
        "            in_opened = False      #assume neighbor not in opened\n",
        "            for i, node in enumerate(opened): #iterate each node in opened\n",
        "                if node[0] == neighbor_city:\n",
        "                    in_opened = True     #if neighbor already in opened it will be true\n",
        "                    # If the new path is better (lower g_cost), update the open_list\n",
        "                    if total_g < node[1]:\n",
        "                        opened[i] = [neighbor_city, total_g, heuristic_value, path_to_city + [neighbor_city]]\n",
        "                    break\n",
        "\n",
        "            # If neighbor is not in open list, add it\n",
        "            if not in_opened:\n",
        "                opened.append([neighbor_city, total_g, heuristic_value, path_to_city + [neighbor_city]])\n",
        "                opened.sort(key=lambda x: x[1] + x[2])\n",
        "                print('Sorted_opened',opened)\n",
        "\n",
        "        print(\"Open list:\", opened)\n",
        "        print(\"Closed list:\", closed)\n",
        "\n",
        "    # Return an empty list if no path is found\n",
        "    return []\n",
        "\n",
        "# Run A* search from Arad to Bucharest\n",
        "print(\"Path found:\", astar_traversal(graph, ['Arad', 0, 366], 'Bucharest'))\n"
      ],
      "metadata": {
        "colab": {
          "base_uri": "https://localhost:8080/"
        },
        "id": "-2mGEcWyvWzd",
        "outputId": "b079ef0a-ac5a-443e-9546-486c1e2d1a49"
      },
      "execution_count": null,
      "outputs": [
        {
          "output_type": "stream",
          "name": "stdout",
          "text": [
            "Current: ['Arad', 0, 366, ['Arad']]\n",
            "Sorted_opened [['Zerind', 75, 374, ['Arad', 'Zerind']]]\n",
            "Sorted_opened [['Timisoara', 118, 329, ['Arad', 'Timisoara']], ['Zerind', 75, 374, ['Arad', 'Zerind']]]\n",
            "Sorted_opened [['Sibiu', 140, 253, ['Arad', 'Sibiu']], ['Timisoara', 118, 329, ['Arad', 'Timisoara']], ['Zerind', 75, 374, ['Arad', 'Zerind']]]\n",
            "Open list: [['Sibiu', 140, 253, ['Arad', 'Sibiu']], ['Timisoara', 118, 329, ['Arad', 'Timisoara']], ['Zerind', 75, 374, ['Arad', 'Zerind']]]\n",
            "Closed list: ['Arad']\n",
            "Current: ['Sibiu', 140, 253, ['Arad', 'Sibiu']]\n",
            "Sorted_opened [['Rimniciu Vilcea', 220, 193, ['Arad', 'Sibiu', 'Rimniciu Vilcea']], ['Timisoara', 118, 329, ['Arad', 'Timisoara']], ['Zerind', 75, 374, ['Arad', 'Zerind']]]\n",
            "Sorted_opened [['Rimniciu Vilcea', 220, 193, ['Arad', 'Sibiu', 'Rimniciu Vilcea']], ['Fagaras', 239, 176, ['Arad', 'Sibiu', 'Fagaras']], ['Timisoara', 118, 329, ['Arad', 'Timisoara']], ['Zerind', 75, 374, ['Arad', 'Zerind']]]\n",
            "Sorted_opened [['Rimniciu Vilcea', 220, 193, ['Arad', 'Sibiu', 'Rimniciu Vilcea']], ['Fagaras', 239, 176, ['Arad', 'Sibiu', 'Fagaras']], ['Timisoara', 118, 329, ['Arad', 'Timisoara']], ['Zerind', 75, 374, ['Arad', 'Zerind']], ['Oradea', 291, 380, ['Arad', 'Sibiu', 'Oradea']]]\n",
            "Open list: [['Rimniciu Vilcea', 220, 193, ['Arad', 'Sibiu', 'Rimniciu Vilcea']], ['Fagaras', 239, 176, ['Arad', 'Sibiu', 'Fagaras']], ['Timisoara', 118, 329, ['Arad', 'Timisoara']], ['Zerind', 75, 374, ['Arad', 'Zerind']], ['Oradea', 291, 380, ['Arad', 'Sibiu', 'Oradea']]]\n",
            "Closed list: ['Arad', 'Sibiu']\n",
            "Current: ['Rimniciu Vilcea', 220, 193, ['Arad', 'Sibiu', 'Rimniciu Vilcea']]\n",
            "Sorted_opened [['Fagaras', 239, 176, ['Arad', 'Sibiu', 'Fagaras']], ['Pitesti', 317, 100, ['Arad', 'Sibiu', 'Rimniciu Vilcea', 'Pitesti']], ['Timisoara', 118, 329, ['Arad', 'Timisoara']], ['Zerind', 75, 374, ['Arad', 'Zerind']], ['Oradea', 291, 380, ['Arad', 'Sibiu', 'Oradea']]]\n",
            "Sorted_opened [['Fagaras', 239, 176, ['Arad', 'Sibiu', 'Fagaras']], ['Pitesti', 317, 100, ['Arad', 'Sibiu', 'Rimniciu Vilcea', 'Pitesti']], ['Timisoara', 118, 329, ['Arad', 'Timisoara']], ['Zerind', 75, 374, ['Arad', 'Zerind']], ['Craiova', 366, 160, ['Arad', 'Sibiu', 'Rimniciu Vilcea', 'Craiova']], ['Oradea', 291, 380, ['Arad', 'Sibiu', 'Oradea']]]\n",
            "Open list: [['Fagaras', 239, 176, ['Arad', 'Sibiu', 'Fagaras']], ['Pitesti', 317, 100, ['Arad', 'Sibiu', 'Rimniciu Vilcea', 'Pitesti']], ['Timisoara', 118, 329, ['Arad', 'Timisoara']], ['Zerind', 75, 374, ['Arad', 'Zerind']], ['Craiova', 366, 160, ['Arad', 'Sibiu', 'Rimniciu Vilcea', 'Craiova']], ['Oradea', 291, 380, ['Arad', 'Sibiu', 'Oradea']]]\n",
            "Closed list: ['Arad', 'Sibiu', 'Rimniciu Vilcea']\n",
            "Current: ['Fagaras', 239, 176, ['Arad', 'Sibiu', 'Fagaras']]\n",
            "Sorted_opened [['Pitesti', 317, 100, ['Arad', 'Sibiu', 'Rimniciu Vilcea', 'Pitesti']], ['Timisoara', 118, 329, ['Arad', 'Timisoara']], ['Zerind', 75, 374, ['Arad', 'Zerind']], ['Bucharest', 450, 0, ['Arad', 'Sibiu', 'Fagaras', 'Bucharest']], ['Craiova', 366, 160, ['Arad', 'Sibiu', 'Rimniciu Vilcea', 'Craiova']], ['Oradea', 291, 380, ['Arad', 'Sibiu', 'Oradea']]]\n",
            "Open list: [['Pitesti', 317, 100, ['Arad', 'Sibiu', 'Rimniciu Vilcea', 'Pitesti']], ['Timisoara', 118, 329, ['Arad', 'Timisoara']], ['Zerind', 75, 374, ['Arad', 'Zerind']], ['Bucharest', 450, 0, ['Arad', 'Sibiu', 'Fagaras', 'Bucharest']], ['Craiova', 366, 160, ['Arad', 'Sibiu', 'Rimniciu Vilcea', 'Craiova']], ['Oradea', 291, 380, ['Arad', 'Sibiu', 'Oradea']]]\n",
            "Closed list: ['Arad', 'Sibiu', 'Rimniciu Vilcea', 'Fagaras']\n",
            "Current: ['Pitesti', 317, 100, ['Arad', 'Sibiu', 'Rimniciu Vilcea', 'Pitesti']]\n",
            "Open list: [['Timisoara', 118, 329, ['Arad', 'Timisoara']], ['Zerind', 75, 374, ['Arad', 'Zerind']], ['Bucharest', 418, 0, ['Arad', 'Sibiu', 'Rimniciu Vilcea', 'Pitesti', 'Bucharest']], ['Craiova', 366, 160, ['Arad', 'Sibiu', 'Rimniciu Vilcea', 'Craiova']], ['Oradea', 291, 380, ['Arad', 'Sibiu', 'Oradea']]]\n",
            "Closed list: ['Arad', 'Sibiu', 'Rimniciu Vilcea', 'Fagaras', 'Pitesti']\n",
            "Current: ['Timisoara', 118, 329, ['Arad', 'Timisoara']]\n",
            "Sorted_opened [['Bucharest', 418, 0, ['Arad', 'Sibiu', 'Rimniciu Vilcea', 'Pitesti', 'Bucharest']], ['Zerind', 75, 374, ['Arad', 'Zerind']], ['Lugoj', 229, 244, ['Arad', 'Timisoara', 'Lugoj']], ['Craiova', 366, 160, ['Arad', 'Sibiu', 'Rimniciu Vilcea', 'Craiova']], ['Oradea', 291, 380, ['Arad', 'Sibiu', 'Oradea']]]\n",
            "Open list: [['Bucharest', 418, 0, ['Arad', 'Sibiu', 'Rimniciu Vilcea', 'Pitesti', 'Bucharest']], ['Zerind', 75, 374, ['Arad', 'Zerind']], ['Lugoj', 229, 244, ['Arad', 'Timisoara', 'Lugoj']], ['Craiova', 366, 160, ['Arad', 'Sibiu', 'Rimniciu Vilcea', 'Craiova']], ['Oradea', 291, 380, ['Arad', 'Sibiu', 'Oradea']]]\n",
            "Closed list: ['Arad', 'Sibiu', 'Rimniciu Vilcea', 'Fagaras', 'Pitesti', 'Timisoara']\n",
            "Current: ['Bucharest', 418, 0, ['Arad', 'Sibiu', 'Rimniciu Vilcea', 'Pitesti', 'Bucharest']]\n",
            "Path found: ['Arad', 'Sibiu', 'Rimniciu Vilcea', 'Pitesti', 'Bucharest']\n"
          ]
        }
      ]
    },
    {
      "cell_type": "markdown",
      "source": [
        "A* using priority queue"
      ],
      "metadata": {
        "id": "5czQjP4v9BE6"
      }
    },
    {
      "cell_type": "code",
      "source": [
        "from heapq import heappush, heappop\n",
        "\n",
        "# Define the graph with cities and their connections\n",
        "graph = {\n",
        "    'Arad': [['Zerind', 75, 374], ['Timisoara', 118, 329], ['Sibiu', 140, 253]],\n",
        "    'Zerind': [['Oradea', 71, 380], ['Arad', 75, 366]],\n",
        "    'Oradea': [['Zerind', 71, 374], ['Sibiu', 151, 253]],\n",
        "    'Sibiu': [['Rimnicu Vilcea', 80, 193], ['Fagaras', 99, 176], ['Arad', 140, 366], ['Oradea', 151, 380]],\n",
        "    'Fagaras': [['Sibiu', 99, 253], ['Bucharest', 211, 0]],\n",
        "    'Rimnicu Vilcea': [['Pitesti', 97, 100], ['Craiova', 146, 160], ['Sibiu', 80, 253]],\n",
        "    'Timisoara': [['Lugoj', 111, 244], ['Arad', 118, 366]],\n",
        "    'Lugoj': [['Mehadia', 70, 241], ['Timisoara', 111, 329]],\n",
        "    'Mehadia': [['Lugoj', 70, 244], ['Dobreta', 75, 242]],\n",
        "    'Dobreta': [['Mehadia', 75, 241], ['Craiova', 120, 160]],\n",
        "    'Pitesti': [['Craiova', 138, 160], ['Bucharest', 101, 0]],\n",
        "    'Craiova': [['Pitesti', 138, 100], ['Dobreta', 120, 242], ['Rimnicu Vilcea', 146, 193]],\n",
        "    'Bucharest': [['Giurgiu', 90, 77], ['Urziceni', 85, 80], ['Fagaras', 211, 178], ['Pitesti', 101, 100]],\n",
        "    'Giurgiu': [['Bucharest', 90, 0]],\n",
        "    'Urziceni': [['Vaslui', 142, 199], ['Hirsova', 98, 151], ['Bucharest', 85, 0]],\n",
        "    'Vaslui': [['Lasi', 92, 226], ['Urziceni', 142, 80]],\n",
        "    'Lasi': [['Neamt', 87, 234], ['Vaslui', 92, 199]],\n",
        "    'Neamt': [['Lasi', 87, 226]],\n",
        "    'Hirsova': [['Eforie', 86, 161], ['Urziceni', 98, 80]],\n",
        "    'Eforie': [['Hirsova', 86, 151]],\n",
        "}\n",
        "\n",
        "def astar_traversal(graph, start, goal):\n",
        "    opened = []  # min-heap\n",
        "    heappush(opened, (start[1] + start[2], start[0], start[1], start[2], [start[0]]))  # (f, city, g, h, path) ->(366,'Arad',0,366,['Arad'])\n",
        "    closed =[]\n",
        "    while opened:\n",
        "        # Pop the node with the lowest f score\n",
        "        current = heappop(opened)\n",
        "        print('Current:', (current[0], current[1], current[2], current[3], current[4]))\n",
        "\n",
        "        # If the goal is reached, return the path\n",
        "        if current[1] == goal:\n",
        "            return current[4]\n",
        "\n",
        "        # Move current node to closed list\n",
        "        closed.append(current[1])\n",
        "\n",
        "        # Expand neighbors\n",
        "        for neighbor in graph[current[1]]:\n",
        "            total_g = current[2] + neighbor[1]\n",
        "            f_new = total_g + neighbor[2]\n",
        "\n",
        "            # Check if the neighbor is in the closed list\n",
        "            if neighbor[0] in closed:\n",
        "                continue\n",
        "\n",
        "            # Check if a node is already in open_list with a higher g_cost\n",
        "            in_opened = False  # Assume neighbor not in opened\n",
        "            for node in opened:  # Iterate each node in opened\n",
        "                if node[1] == neighbor[0]:\n",
        "                    in_opened = True  # Neighbor already in opened\n",
        "                    # If the new path is better (lower g_cost), update the open_list\n",
        "                    if total_g < node[2]:\n",
        "                        # Create a new entry with updated g cost\n",
        "                        heappush(opened, (f_new, neighbor[0], total_g, neighbor[2], current[4] + [neighbor[0]]))\n",
        "                    break\n",
        "\n",
        "            # If neighbor is not in open list, add it\n",
        "            if not in_opened:\n",
        "                heappush(opened, (f_new, neighbor[0], total_g, neighbor[2], current[4] + [neighbor[0]]))\n",
        "\n",
        "        print(\"Open list:\", opened)\n",
        "        print(\"Closed list:\", closed)\n",
        "\n",
        "    # Return an empty list if no path is found\n",
        "    return []\n",
        "\n",
        "# Run A* search from Arad to Bucharest\n",
        "print(\"Path found:\", astar_traversal(graph, ['Arad', 0, 366], 'Bucharest'))\n"
      ],
      "metadata": {
        "colab": {
          "base_uri": "https://localhost:8080/"
        },
        "id": "xaRjdUxr7QTU",
        "outputId": "e92db556-7b60-4df9-fa32-4e6398492699"
      },
      "execution_count": null,
      "outputs": [
        {
          "output_type": "stream",
          "name": "stdout",
          "text": [
            "Current: (366, 'Arad', 0, 366, ['Arad'])\n",
            "Open list: [(393, 'Sibiu', 140, 253, ['Arad', 'Sibiu']), (449, 'Zerind', 75, 374, ['Arad', 'Zerind']), (447, 'Timisoara', 118, 329, ['Arad', 'Timisoara'])]\n",
            "Closed list: ['Arad']\n",
            "Current: (393, 'Sibiu', 140, 253, ['Arad', 'Sibiu'])\n",
            "Open list: [(413, 'Rimnicu Vilcea', 220, 193, ['Arad', 'Sibiu', 'Rimnicu Vilcea']), (415, 'Fagaras', 239, 176, ['Arad', 'Sibiu', 'Fagaras']), (447, 'Timisoara', 118, 329, ['Arad', 'Timisoara']), (449, 'Zerind', 75, 374, ['Arad', 'Zerind']), (671, 'Oradea', 291, 380, ['Arad', 'Sibiu', 'Oradea'])]\n",
            "Closed list: ['Arad', 'Sibiu']\n",
            "Current: (413, 'Rimnicu Vilcea', 220, 193, ['Arad', 'Sibiu', 'Rimnicu Vilcea'])\n",
            "Open list: [(415, 'Fagaras', 239, 176, ['Arad', 'Sibiu', 'Fagaras']), (417, 'Pitesti', 317, 100, ['Arad', 'Sibiu', 'Rimnicu Vilcea', 'Pitesti']), (447, 'Timisoara', 118, 329, ['Arad', 'Timisoara']), (671, 'Oradea', 291, 380, ['Arad', 'Sibiu', 'Oradea']), (449, 'Zerind', 75, 374, ['Arad', 'Zerind']), (526, 'Craiova', 366, 160, ['Arad', 'Sibiu', 'Rimnicu Vilcea', 'Craiova'])]\n",
            "Closed list: ['Arad', 'Sibiu', 'Rimnicu Vilcea']\n",
            "Current: (415, 'Fagaras', 239, 176, ['Arad', 'Sibiu', 'Fagaras'])\n",
            "Open list: [(417, 'Pitesti', 317, 100, ['Arad', 'Sibiu', 'Rimnicu Vilcea', 'Pitesti']), (449, 'Zerind', 75, 374, ['Arad', 'Zerind']), (447, 'Timisoara', 118, 329, ['Arad', 'Timisoara']), (671, 'Oradea', 291, 380, ['Arad', 'Sibiu', 'Oradea']), (526, 'Craiova', 366, 160, ['Arad', 'Sibiu', 'Rimnicu Vilcea', 'Craiova']), (450, 'Bucharest', 450, 0, ['Arad', 'Sibiu', 'Fagaras', 'Bucharest'])]\n",
            "Closed list: ['Arad', 'Sibiu', 'Rimnicu Vilcea', 'Fagaras']\n",
            "Current: (417, 'Pitesti', 317, 100, ['Arad', 'Sibiu', 'Rimnicu Vilcea', 'Pitesti'])\n",
            "Open list: [(418, 'Bucharest', 418, 0, ['Arad', 'Sibiu', 'Rimnicu Vilcea', 'Pitesti', 'Bucharest']), (449, 'Zerind', 75, 374, ['Arad', 'Zerind']), (447, 'Timisoara', 118, 329, ['Arad', 'Timisoara']), (671, 'Oradea', 291, 380, ['Arad', 'Sibiu', 'Oradea']), (526, 'Craiova', 366, 160, ['Arad', 'Sibiu', 'Rimnicu Vilcea', 'Craiova']), (450, 'Bucharest', 450, 0, ['Arad', 'Sibiu', 'Fagaras', 'Bucharest'])]\n",
            "Closed list: ['Arad', 'Sibiu', 'Rimnicu Vilcea', 'Fagaras', 'Pitesti']\n",
            "Current: (418, 'Bucharest', 418, 0, ['Arad', 'Sibiu', 'Rimnicu Vilcea', 'Pitesti', 'Bucharest'])\n",
            "Path found: ['Arad', 'Sibiu', 'Rimnicu Vilcea', 'Pitesti', 'Bucharest']\n"
          ]
        }
      ]
    }
  ]
}