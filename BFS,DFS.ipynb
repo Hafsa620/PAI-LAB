{
  "nbformat": 4,
  "nbformat_minor": 0,
  "metadata": {
    "colab": {
      "provenance": [],
      "authorship_tag": "ABX9TyPAXU/Z4ikmgUEYiDkRL8iw",
      "include_colab_link": true
    },
    "kernelspec": {
      "name": "python3",
      "display_name": "Python 3"
    },
    "language_info": {
      "name": "python"
    }
  },
  "cells": [
    {
      "cell_type": "markdown",
      "metadata": {
        "id": "view-in-github",
        "colab_type": "text"
      },
      "source": [
        "<a href=\"https://colab.research.google.com/github/Hafsa620/PAI-LAB/blob/main/BFS%2CDFS.ipynb\" target=\"_parent\"><img src=\"https://colab.research.google.com/assets/colab-badge.svg\" alt=\"Open In Colab\"/></a>"
      ]
    },
    {
      "cell_type": "markdown",
      "source": [
        "BFS"
      ],
      "metadata": {
        "id": "GQmUVhEr-Wsf"
      }
    },
    {
      "cell_type": "code",
      "execution_count": null,
      "metadata": {
        "colab": {
          "base_uri": "https://localhost:8080/"
        },
        "id": "P_p5XjCyUAt3",
        "outputId": "16a81b57-7ccb-42bf-998e-0308c24de520"
      },
      "outputs": [
        {
          "name": "stdout",
          "output_type": "stream",
          "text": [
            "Enter the starting city: Arad\n",
            "Enter the ending city: Bucharest\n"
          ]
        },
        {
          "output_type": "execute_result",
          "data": {
            "text/plain": [
              "['Arad',\n",
              " 'Sibiu',\n",
              " 'Timisoara',\n",
              " 'Zerind',\n",
              " 'Fagaras',\n",
              " 'Oradea',\n",
              " 'Rimnicu Vilcea',\n",
              " 'Lugoj',\n",
              " 'Bucharest']"
            ]
          },
          "metadata": {},
          "execution_count": 1
        }
      ],
      "source": [
        "GRAPH={\n",
        "    'Arad':['Sibiu','Timisoara','Zerind'],\n",
        "    'Zerind':['Arad','Oradea'],\n",
        "    'Oradea':['Zerind','Sibiu'],\n",
        "    'Sibiu':['Arad','Fagaras','Oradea','Rimnicu Vilcea'],\n",
        "    'Timisoara':['Arad','Lugoj'],\n",
        "    'Lugoj':['Mehadia','Timisoara'],\n",
        "    'Mehadia':['Drobeta','Lugoj'],\n",
        "    'Drobeta':['Craiova','Mehadia'],\n",
        "    'Craiova':['Drobeta','Pitesti','Rimnicu Vilcea'],\n",
        "    'Rimnicu Vilcea':['Craiova','Pitesti','Sibiu'],\n",
        "    'Fagaras':['Bucharest','Sibiu'],\n",
        "    'Pitesti':['Bucharest','Craiova','Rimnicu Vilcea'],\n",
        "    'Bucharest':['Fagaras','Giurgiu','Pitesti','Urziceni'],\n",
        "    'Giurgiu':['Bucharest'],\n",
        "    'Urziceni':['Bucharest','Hirsova','Vaslui'],\n",
        "    'Hirsova':['Eforie','Urziceni'],\n",
        "    'Eforie':['Hirsova'],\n",
        "    'Vaslui':['Iasi','Urziceni'],\n",
        "    'Iasi':['Neamt','Vaslui'],\n",
        "    'Neamt':['Iasi']\n",
        "\n",
        "}\n",
        "\n",
        "def bfs(GRAPH,starting_city,ending_city):\n",
        "  if starting_city not in GRAPH or ending_city not in GRAPH:\n",
        "        print(\"One or both cities are not in the graph.\")\n",
        "        return []\n",
        "  visited=[]\n",
        "  queue=[]\n",
        "  queue.append(starting_city)\n",
        "  while queue:\n",
        "    city=queue.pop(0)\n",
        "    if city == ending_city:\n",
        "      visited.append(city)\n",
        "      return visited\n",
        "    else:\n",
        "        queue=queue+ [item for item in GRAPH[city]  if item not in queue and item not in visited]\n",
        "        visited.append(city)\n",
        "  print(\"Ending_city i.e goal not found\")\n",
        "  return visited\n",
        "starting_city=input(\"Enter the starting city: \")\n",
        "ending_city=input(\"Enter the ending city: \")\n",
        "bfs_path=bfs(GRAPH,starting_city,ending_city)\n",
        "bfs_path\n",
        "\n",
        "\n"
      ]
    },
    {
      "cell_type": "markdown",
      "source": [
        "DFS"
      ],
      "metadata": {
        "id": "rdqkhWIi-aF-"
      }
    },
    {
      "cell_type": "code",
      "source": [
        "graph={\n",
        "    'Arad':['Sibiu','Timisoara','Zerind'],\n",
        "    'Zerind':['Arad','Oradea'],\n",
        "    'Oradea':['Zerind','Sibiu'],\n",
        "    'Sibiu':['Arad','Fagaras','Oradea','Rimnicu Vilcea'],\n",
        "    'Timisoara':['Arad','Lugoj'],\n",
        "    'Lugoj':['Mehadia','Timisoara'],\n",
        "    'Mehadia':['Drobeta','Lugoj'],\n",
        "    'Drobeta':['Craiova','Mehadia'],\n",
        "    'Craiova':['Drobeta','Pitesti','Rimnicu Vilcea'],\n",
        "    'Rimnicu Vilcea':['Craiova','Pitesti','Sibiu'],\n",
        "    'Fagaras':['Bucharest','Sibiu'],\n",
        "    'Pitesti':['Bucharest','Craiova','Rimnicu Vilcea'],\n",
        "    'Bucharest':['Fagaras','Giurgiu','Pitesti','Urziceni'],\n",
        "    'Giurgiu':['Bucharest'],\n",
        "    'Urziceni':['Bucharest','Hirsova','Vaslui'],\n",
        "    'Hirsova':['Eforie','Urziceni'],\n",
        "    'Eforie':['Hirsova'],\n",
        "    'Vaslui':['Iasi','Urziceni'],\n",
        "    'Iasi':['Neamt','Vaslui'],\n",
        "    'Neamt':['Iasi']\n",
        "\n",
        "}\n",
        "\n",
        "def dfs(graph, start,goal):\n",
        "  if start not in graph or goal not in graph:\n",
        "        print(\"One or both cities are not in the graph.\")\n",
        "        return []\n",
        "  opened=[]\n",
        "  closed=[]\n",
        "  opened.append(start)\n",
        "  while opened:\n",
        "    city=opened.pop(0)   ##pop first item as DFS follows LIFO - last in first out\n",
        "    if city==goal:\n",
        "      closed.append(city)\n",
        "      return closed\n",
        "    else:\n",
        "      opened=  [item for item in graph[city] if item not in opened and item not in closed] + opened\n",
        "      closed.append(city)\n",
        "  print(\"Goal not found\")\n",
        "  return closed\n",
        "\n",
        "\n",
        "start_city = input(\"Enter the starting city: \")\n",
        "end_city = input(\"Enter the ending city: \")\n",
        "\n",
        "dfs_path = dfs(graph, start_city, end_city)\n",
        "print(\"DFS Path:\", dfs_path)\n"
      ],
      "metadata": {
        "id": "FMwcnDd7VGcR",
        "colab": {
          "base_uri": "https://localhost:8080/"
        },
        "outputId": "24b7a956-a0bf-4007-9cc8-bf7686c79edf"
      },
      "execution_count": null,
      "outputs": [
        {
          "output_type": "stream",
          "name": "stdout",
          "text": [
            "Enter the starting city: Arad\n",
            "Enter the ending city: Sibiu\n",
            "DFS Path: ['Arad', 'Sibiu']\n"
          ]
        }
      ]
    }
  ]
}